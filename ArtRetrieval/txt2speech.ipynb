{
 "cells": [
  {
   "cell_type": "code",
   "execution_count": 1,
   "metadata": {},
   "outputs": [],
   "source": [
    "import csv\n",
    "with open('/van_gogh_paintings_description.csv', 'r') as f:\n",
    "    reader = csv.reader(f)\n",
    "    data = list(reader)\n",
    "data = data[1:]"
   ]
  },
  {
   "cell_type": "code",
   "execution_count": 2,
   "metadata": {},
   "outputs": [
    {
     "name": "stderr",
     "output_type": "stream",
     "text": [
      "100%|██████████| 153/153 [02:43<00:00,  1.07s/it]\n"
     ]
    }
   ],
   "source": [
    "import boto3\n",
    "import csv\n",
    "from tqdm import tqdm\n",
    "from pydub import AudioSegment\n",
    "def split_text(text, max_length):\n",
    "    # This function splits the text into chunks of max_length, splitting at sentence ends if possible\n",
    "    sentences = text.split('. ')\n",
    "    chunks = []\n",
    "    current_chunk = ''\n",
    "\n",
    "    for sentence in sentences:\n",
    "        if len(current_chunk) + len(sentence) < max_length:\n",
    "            current_chunk += sentence + '. '\n",
    "        else:\n",
    "            chunks.append(current_chunk)\n",
    "            current_chunk = sentence + '. '\n",
    "    \n",
    "    if current_chunk:\n",
    "        chunks.append(current_chunk)\n",
    "\n",
    "    return chunks\n",
    "polly_client = boto3.client('polly',\n",
    "                            aws_access_key_id='',\n",
    "                            aws_secret_access_key='',\n",
    "                            region_name='us-east-1')\n",
    "s3_client = boto3.client('s3',\n",
    "                         aws_access_key_id='',\n",
    "                         aws_secret_access_key='',\n",
    "                         region_name='us-east-1')\n",
    "for i in tqdm(range(len(data))):\n",
    "    if data[i][-2] == '':\n",
    "        continue\n",
    "    long_text = data[i][-2]\n",
    "    chunks = split_text(long_text, 3000)\n",
    "    temp_files = []\n",
    "\n",
    "    for _, chunk in enumerate(chunks):\n",
    "        response = polly_client.synthesize_speech(VoiceId='Joanna',\n",
    "                                                OutputFormat='mp3', \n",
    "                                                Text=chunk)\n",
    "        \n",
    "        temp_file = f\"temp_{i}.mp3\"\n",
    "        with open(temp_file, 'wb') as file:\n",
    "            file.write(response['AudioStream'].read())\n",
    "        temp_files.append(temp_file)\n",
    "\n",
    "    # Concatenate audio files\n",
    "    combined = AudioSegment.empty()\n",
    "    for temp_file in temp_files:\n",
    "        segment = AudioSegment.from_mp3(temp_file)\n",
    "    combined += segment\n",
    "    \n",
    "    combined_file = data[i][0] + '.mp3'\n",
    "    combined.export(combined_file, format=\"mp3\")\n",
    "    bucket_name = 'artaudio'\n",
    "    with open(combined_file, 'rb') as file:\n",
    "        s3_client.upload_fileobj(file, bucket_name, combined_file)\n"
   ]
  },
  {
   "cell_type": "code",
   "execution_count": 3,
   "metadata": {},
   "outputs": [
    {
     "data": {
      "text/plain": [
       "152"
      ]
     },
     "execution_count": 3,
     "metadata": {},
     "output_type": "execute_result"
    }
   ],
   "source": [
    "i"
   ]
  }
 ],
 "metadata": {
  "kernelspec": {
   "display_name": "base",
   "language": "python",
   "name": "python3"
  },
  "language_info": {
   "codemirror_mode": {
    "name": "ipython",
    "version": 3
   },
   "file_extension": ".py",
   "mimetype": "text/x-python",
   "name": "python",
   "nbconvert_exporter": "python",
   "pygments_lexer": "ipython3",
   "version": "3.10.10"
  }
 },
 "nbformat": 4,
 "nbformat_minor": 2
}
